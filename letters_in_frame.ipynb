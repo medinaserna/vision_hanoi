{
 "cells": [
  {
   "cell_type": "code",
   "execution_count": null,
   "metadata": {},
   "outputs": [],
   "source": [
    "import cv2\n",
    "import numpy as np"
   ]
  },
  {
   "cell_type": "code",
   "execution_count": 28,
   "metadata": {},
   "outputs": [
    {
     "data": {
      "text/plain": [
       "array([[[255, 255, 255],\n",
       "        [255, 255, 255],\n",
       "        [255, 255, 255],\n",
       "        ...,\n",
       "        [255, 255, 255],\n",
       "        [255, 255, 255],\n",
       "        [255, 255, 255]],\n",
       "\n",
       "       [[255, 255, 255],\n",
       "        [255, 255, 255],\n",
       "        [255, 255, 255],\n",
       "        ...,\n",
       "        [255, 255, 255],\n",
       "        [255, 255, 255],\n",
       "        [255, 255, 255]],\n",
       "\n",
       "       [[255, 255, 255],\n",
       "        [255, 255, 255],\n",
       "        [255, 255, 255],\n",
       "        ...,\n",
       "        [255, 255, 255],\n",
       "        [255, 255, 255],\n",
       "        [255, 255, 255]],\n",
       "\n",
       "       ...,\n",
       "\n",
       "       [[255, 255, 255],\n",
       "        [255, 255, 255],\n",
       "        [255, 255, 255],\n",
       "        ...,\n",
       "        [255, 255, 255],\n",
       "        [255, 255, 255],\n",
       "        [255, 255, 255]],\n",
       "\n",
       "       [[255, 255, 255],\n",
       "        [255, 255, 255],\n",
       "        [255, 255, 255],\n",
       "        ...,\n",
       "        [255, 255, 255],\n",
       "        [255, 255, 255],\n",
       "        [255, 255, 255]],\n",
       "\n",
       "       [[255, 255, 255],\n",
       "        [255, 255, 255],\n",
       "        [255, 255, 255],\n",
       "        ...,\n",
       "        [255, 255, 255],\n",
       "        [255, 255, 255],\n",
       "        [255, 255, 255]]], dtype=uint8)"
      ]
     },
     "execution_count": 28,
     "metadata": {},
     "output_type": "execute_result"
    }
   ],
   "source": [
    "\n",
    "\n",
    "# Create a black frame (all zeros)\n",
    "frame = np.ones((480, 640, 3), dtype=np.uint8)*255\n",
    "\n",
    "# Choose a font and other parameters\n",
    "font = cv2.FONT_HERSHEY_SIMPLEX\n",
    "text = 'A'\n",
    "font_size = 4\n",
    "font_thickness = 2\n",
    "font_color = (0, 0, 0)  # White\n",
    "\n",
    "# Determine the size of the text box\n",
    "(text_width, text_height), baseline = cv2.getTextSize(text, font, font_size, font_thickness)\n",
    "x = (frame.shape[1] - text_width) // 2\n",
    "y = (frame.shape[0] + text_height) // 2\n",
    "\n",
    "# Draw the letter on the frame\n",
    "cv2.putText(frame, text, (x, y), font, font_size, font_color, font_thickness, cv2.LINE_AA)\n",
    "\n",
    "# Display the frame\n",
    "#cv2.imshow('Frame with Letter', frame)\n",
    "#cv2.waitKey(0)\n",
    "#cv2.destroyAllWindows()"
   ]
  },
  {
   "cell_type": "code",
   "execution_count": 18,
   "metadata": {},
   "outputs": [
    {
     "name": "stdout",
     "output_type": "stream",
     "text": [
      "[['C' 'F' 'B']\n",
      " ['A' 'B' 'A']\n",
      " ['B' 'F' 'I']]\n"
     ]
    }
   ],
   "source": [
    "\n",
    "# create an array of letters\n",
    "letters = np.array(['A', 'B', 'C', 'D', 'E', 'F', 'G', 'H', 'I'])\n",
    "\n",
    "# create a 3x3 matrix of random letters\n",
    "matrix = np.random.choice(letters, (3, 3))\n",
    "\n",
    "# print the matrix\n",
    "print(matrix)\n"
   ]
  },
  {
   "cell_type": "code",
   "execution_count": 44,
   "metadata": {},
   "outputs": [],
   "source": [
    "\n",
    "hanoi_dict = {} #dictionary used to store the images\n",
    "img_quant = 21  #number of samples pictures\n",
    "\n",
    "\n",
    "for i in range (1, (img_quant+1)):\n",
    "\n",
    "    \n",
    "    #note: the files from 18 nov are the ones without the withe background\n",
    "    #name_file = 'DATA/CamosunTest/hanoinov18sample (' + str(i) + ').jpg'\n",
    "    name_file = 'DATA/CamosunTest/hanoinov24sample (' + str(i) + ').jpg'\n",
    "    name_var = str('hanoi'+str(i))\n",
    "    \n",
    "    hanoi_dict[name_var] = cv2.imread(name_file)\n",
    "\n",
    "#load the image that I want to know the HSV value, but first look in the RGB version and also get the HSV version\n",
    "\n",
    "image = hanoi_dict['hanoi2']\n",
    "\n",
    "#image = cv2.cvtColor(img, cv2.COLOR_BGR2RGB)\n",
    "imagehsv = cv2.cvtColor(image, cv2.COLOR_BGR2HSV)\n",
    "imagecopy = image.copy()\n",
    "imagehsvcopy = imagehsv.copy()\n",
    "#display(image)\n",
    "cv2.imshow('Frame', image)\n",
    "cv2.waitKey(0)\n",
    "cv2.destroyAllWindows()"
   ]
  },
  {
   "cell_type": "code",
   "execution_count": 21,
   "metadata": {},
   "outputs": [
    {
     "data": {
      "text/plain": [
       "'C'"
      ]
     },
     "execution_count": 21,
     "metadata": {},
     "output_type": "execute_result"
    }
   ],
   "source": [
    "matrix[0,0]"
   ]
  },
  {
   "cell_type": "code",
   "execution_count": 41,
   "metadata": {},
   "outputs": [],
   "source": []
  },
  {
   "cell_type": "code",
   "execution_count": 45,
   "metadata": {},
   "outputs": [],
   "source": [
    "# Choose a font and other parameters\n",
    "font = cv2.FONT_HERSHEY_SIMPLEX\n",
    "font_size = 2\n",
    "font_thickness = 2\n",
    "font_color = (0, 0, 255)  # Red\n",
    "\n",
    "\n",
    "text = matrix[0,0]\n",
    "text1 = matrix[1,0]\n",
    "text2 = matrix[2,0]\n",
    "\n",
    "letter_x_coord ={'x0' : 100, 'x1': 300, 'x2' : 500}\n",
    "letter_y_coord ={'y0' : 265, 'y1': 320, 'y2' : 375}\n",
    "\n",
    "\n",
    "\n",
    "# Determine the size of the text box\n",
    "#(text_width, text_height), baseline = cv2.getTextSize(text, font, font_size, font_thickness)\n",
    "#x = (frame.shape[1] - text_width) // 2\n",
    "#y = (frame.shape[0] + text_height) // 2\n",
    "\n",
    "for n in range (0,3):\n",
    "    for j in range(0,3):\n",
    "        cv2.putText(image, matrix[j,n], (letter_x_coord['x' + str(n)], letter_y_coord['y' + str(j)]), font, font_size, font_color, font_thickness, cv2.LINE_AA) \n",
    "\n",
    "\n",
    "\n",
    "\n",
    "# Draw the letter on the image\n",
    "#cv2.putText(image, text, (x, y), font, font_size, font_color, font_thickness, cv2.LINE_AA)\n",
    "#cv2.putText(image, text1, (x, y1), font, font_size, font_color, font_thickness, cv2.LINE_AA)\n",
    "#cv2.putText(image, text2, (x, y2), font, font_size, font_color, font_thickness, cv2.LINE_AA)\n",
    "cv2.imshow('Image with Letter', image)\n",
    "cv2.waitKey(0)\n",
    "cv2.destroyAllWindows()"
   ]
  },
  {
   "cell_type": "code",
   "execution_count": 27,
   "metadata": {},
   "outputs": [],
   "source": []
  },
  {
   "cell_type": "code",
   "execution_count": null,
   "metadata": {},
   "outputs": [],
   "source": []
  }
 ],
 "metadata": {
  "kernelspec": {
   "display_name": "Python 3",
   "language": "python",
   "name": "python3"
  },
  "language_info": {
   "codemirror_mode": {
    "name": "ipython",
    "version": 3
   },
   "file_extension": ".py",
   "mimetype": "text/x-python",
   "name": "python",
   "nbconvert_exporter": "python",
   "pygments_lexer": "ipython3",
   "version": "3.6.6"
  }
 },
 "nbformat": 4,
 "nbformat_minor": 2
}
