{
 "cells": [
  {
   "cell_type": "markdown",
   "metadata": {},
   "source": [
    "## CLICK SELECTION HSV VALUES AND RGB TEST\n",
    "\n",
    "**This code is used to get the HSV values from a pixel. The idea, is to get the real reference for a color and its shadow. This will be used for the system that will identify each color disc in the hanoi tower**\n",
    "\n",
    "*keep in mind: cv2.imshow, knows that the imread is in BGR and know how to display. Instead, plt.imshow, you need to convert to BGR2RGB because its work on the RGB setup.*\n"
   ]
  },
  {
   "cell_type": "code",
   "execution_count": 1,
   "metadata": {},
   "outputs": [],
   "source": [
    "import cv2\n",
    "import time\n",
    "import numpy as np\n",
    "import matplotlib.pyplot as plt\n",
    "%matplotlib inline"
   ]
  },
  {
   "cell_type": "code",
   "execution_count": 2,
   "metadata": {},
   "outputs": [],
   "source": [
    "#define the events for the\n",
    "# mouse_click.\n",
    "def mouse_click(event, x, y, \n",
    "                flags, param):\n",
    "    \n",
    "    \n",
    "    # to check if left mouse \n",
    "    # button was clicked\n",
    "    if event == cv2.EVENT_LBUTTONDOWN:\n",
    "        \n",
    "        colorB = image[y,x,0]\n",
    "        colorG = image[y,x,1]\n",
    "        colorR = image[y,x,2]\n",
    "        colorH = imagehsv[y,x,0]\n",
    "        colorS = imagehsv[y,x,1]\n",
    "        colorV = imagehsv[y,x,2]\n",
    "          \n",
    "        print('BLUE: ' + str(colorB) + '  GREEN: ' + str(colorG) + '  RED: ' + str(colorR))\n",
    "        print('H: ' + str(colorH) + '  S: ' + str(colorS) + '  V: ' + str(colorV))\n",
    "   \n",
    "      "
   ]
  },
  {
   "cell_type": "code",
   "execution_count": 3,
   "metadata": {},
   "outputs": [],
   "source": [
    "# Create a named window for connections\n",
    "cv2.namedWindow('frame')\n",
    "cv2.setMouseCallback('frame', mouse_click)"
   ]
  },
  {
   "cell_type": "code",
   "execution_count": 5,
   "metadata": {},
   "outputs": [],
   "source": [
    "\n",
    "\"\"\"\n",
    "#basic variables\n",
    "img_quant = 23 + 1\n",
    "hanoi_dict = {} #dictionary used to store the images\n",
    "\n",
    "\n",
    "# load the dictionary with the jpg dataset stored at DATA\n",
    "for i in range (1, img_quant):\n",
    "\n",
    "    name_file = 'DATA/ROI_select' + str(i) + '.jpg'\n",
    "    name_var = str('hanoi'+str(i))\n",
    "    \n",
    "    hanoi_dict[name_var] = cv2.imread(name_file)\n",
    "\"\"\""
   ]
  },
  {
   "cell_type": "code",
   "execution_count": 4,
   "metadata": {},
   "outputs": [],
   "source": [
    "#basic variables\n",
    "img_quant = 21 \n",
    "hanoi_dict = {} #dictionary used to store the images\n",
    "\n",
    "\n",
    "# load the dictionary with the jpg dataset stored at DATA\n",
    "for i in range (1, img_quant+1):\n",
    "\n",
    "    name_file = 'DATA/CamosunTest/hanoinov18sample (' + str(i) + ').jpg'\n",
    "    name_var = str('hanoi'+str(i))\n",
    "    \n",
    "    hanoi_dict[name_var] = cv2.imread(name_file)"
   ]
  },
  {
   "cell_type": "code",
   "execution_count": null,
   "metadata": {},
   "outputs": [
    {
     "name": "stdout",
     "output_type": "stream",
     "text": [
      "BLUE: 60  GREEN: 17  RED: 2\n",
      "H: 112  S: 247  V: 60\n",
      "BLUE: 43  GREEN: 11  RED: 0\n",
      "H: 112  S: 255  V: 43\n",
      "BLUE: 57  GREEN: 44  RED: 28\n",
      "H: 103  S: 130  V: 57\n",
      "BLUE: 58  GREEN: 52  RED: 29\n",
      "H: 96  S: 127  V: 58\n",
      "BLUE: 56  GREEN: 49  RED: 29\n",
      "H: 98  S: 123  V: 56\n",
      "BLUE: 62  GREEN: 55  RED: 35\n",
      "H: 98  S: 111  V: 62\n",
      "BLUE: 43  GREEN: 41  RED: 17\n",
      "H: 92  S: 154  V: 43\n",
      "BLUE: 58  GREEN: 50  RED: 27\n",
      "H: 98  S: 136  V: 58\n",
      "BLUE: 48  GREEN: 157  RED: 208\n",
      "H: 20  S: 196  V: 208\n",
      "BLUE: 62  GREEN: 162  RED: 204\n",
      "H: 21  S: 178  V: 204\n",
      "BLUE: 53  GREEN: 139  RED: 159\n",
      "H: 24  S: 170  V: 159\n",
      "BLUE: 56  GREEN: 140  RED: 146\n",
      "H: 28  S: 157  V: 146\n",
      "BLUE: 86  GREEN: 130  RED: 131\n",
      "H: 29  S: 88  V: 131\n",
      "BLUE: 77  GREEN: 171  RED: 214\n",
      "H: 21  S: 163  V: 214\n",
      "BLUE: 49  GREEN: 155  RED: 209\n",
      "H: 20  S: 195  V: 209\n",
      "BLUE: 51  GREEN: 158  RED: 209\n",
      "H: 20  S: 193  V: 209\n",
      "BLUE: 58  GREEN: 162  RED: 215\n",
      "H: 20  S: 186  V: 215\n",
      "BLUE: 207  GREEN: 224  RED: 220\n",
      "H: 37  S: 19  V: 224\n",
      "BLUE: 212  GREEN: 221  RED: 224\n",
      "H: 23  S: 14  V: 224\n",
      "BLUE: 155  GREEN: 175  RED: 176\n",
      "H: 29  S: 30  V: 176\n",
      "BLUE: 208  GREEN: 222  RED: 221\n",
      "H: 32  S: 16  V: 222\n",
      "BLUE: 209  GREEN: 220  RED: 218\n",
      "H: 35  S: 13  V: 220\n",
      "BLUE: 208  GREEN: 219  RED: 216\n",
      "H: 38  S: 13  V: 219\n",
      "BLUE: 205  GREEN: 218  RED: 220\n",
      "H: 26  S: 17  V: 220\n",
      "BLUE: 202  GREEN: 224  RED: 229\n",
      "H: 24  S: 30  V: 229\n",
      "BLUE: 189  GREEN: 218  RED: 223\n",
      "H: 26  S: 39  V: 223\n",
      "BLUE: 165  GREEN: 198  RED: 231\n",
      "H: 15  S: 73  V: 231\n",
      "BLUE: 207  GREEN: 218  RED: 216\n",
      "H: 35  S: 13  V: 218\n",
      "BLUE: 204  GREEN: 218  RED: 216\n",
      "H: 34  S: 16  V: 218\n",
      "BLUE: 194  GREEN: 222  RED: 223\n",
      "H: 29  S: 33  V: 223\n",
      "BLUE: 209  GREEN: 228  RED: 235\n",
      "H: 22  S: 28  V: 235\n",
      "BLUE: 173  GREEN: 189  RED: 188\n",
      "H: 32  S: 22  V: 189\n",
      "BLUE: 206  GREEN: 230  RED: 236\n",
      "H: 24  S: 32  V: 236\n",
      "BLUE: 200  GREEN: 219  RED: 232\n",
      "H: 18  S: 35  V: 232\n",
      "BLUE: 182  GREEN: 203  RED: 200\n",
      "H: 34  S: 26  V: 203\n",
      "BLUE: 210  GREEN: 221  RED: 219\n",
      "H: 35  S: 13  V: 221\n",
      "BLUE: 210  GREEN: 221  RED: 219\n",
      "H: 35  S: 13  V: 221\n",
      "BLUE: 209  GREEN: 220  RED: 218\n",
      "H: 35  S: 13  V: 220\n",
      "BLUE: 208  GREEN: 219  RED: 217\n",
      "H: 35  S: 13  V: 219\n",
      "BLUE: 207  GREEN: 215  RED: 214\n",
      "H: 34  S: 9  V: 215\n",
      "BLUE: 211  GREEN: 219  RED: 218\n",
      "H: 34  S: 9  V: 219\n",
      "BLUE: 208  GREEN: 220  RED: 222\n",
      "H: 26  S: 16  V: 222\n",
      "BLUE: 216  GREEN: 243  RED: 255\n",
      "H: 21  S: 39  V: 255\n",
      "BLUE: 14  GREEN: 69  RED: 126\n",
      "H: 15  S: 227  V: 126\n",
      "BLUE: 183  GREEN: 219  RED: 235\n",
      "H: 21  S: 56  V: 235\n",
      "BLUE: 197  GREEN: 225  RED: 232\n",
      "H: 24  S: 38  V: 232\n",
      "BLUE: 205  GREEN: 220  RED: 216\n",
      "H: 38  S: 17  V: 220\n",
      "BLUE: 209  GREEN: 220  RED: 218\n",
      "H: 35  S: 13  V: 220\n"
     ]
    }
   ],
   "source": [
    "#load the image that I want to know the HSV value, but first look in the RGB version\n",
    "\n",
    "image = hanoi_dict['hanoi7']\n",
    "#image = cv2.imread('problem.jpg')\n",
    "imagehsv = cv2.cvtColor(image, cv2.COLOR_BGR2HSV)\n",
    "\n",
    "#image = cv2.cvtColor(image, cv2.COLOR_BGR2RGB)\n",
    "\n",
    "cv2.imshow('frame', image)\n",
    "cv2.waitKey()\n",
    "\n",
    "#cv2.imshow('framehsv', imagehsv)\n",
    "#cv2.waitKey()\n",
    "\n",
    "\n",
    "    #if cv2.waitKey(1) & 0xFF == ord('q'):\n",
    "     #   cv2.destroyAllWindows() \n"
   ]
  },
  {
   "cell_type": "code",
   "execution_count": 6,
   "metadata": {},
   "outputs": [],
   "source": [
    "cv2.destroyAllWindows() \n"
   ]
  },
  {
   "cell_type": "code",
   "execution_count": 9,
   "metadata": {},
   "outputs": [
    {
     "data": {
      "text/plain": [
       "(100, 224, 3)"
      ]
     },
     "execution_count": 9,
     "metadata": {},
     "output_type": "execute_result"
    }
   ],
   "source": [
    "image.shape"
   ]
  },
  {
   "cell_type": "code",
   "execution_count": null,
   "metadata": {},
   "outputs": [],
   "source": []
  }
 ],
 "metadata": {
  "kernelspec": {
   "display_name": "Python 3",
   "language": "python",
   "name": "python3"
  },
  "language_info": {
   "codemirror_mode": {
    "name": "ipython",
    "version": 3
   },
   "file_extension": ".py",
   "mimetype": "text/x-python",
   "name": "python",
   "nbconvert_exporter": "python",
   "pygments_lexer": "ipython3",
   "version": "3.6.6"
  }
 },
 "nbformat": 4,
 "nbformat_minor": 2
}
