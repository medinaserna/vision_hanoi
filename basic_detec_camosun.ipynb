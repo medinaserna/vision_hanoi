{
 "cells": [
  {
   "cell_type": "markdown",
   "metadata": {},
   "source": [
    "# THE MINI FINITE STATE MACHINE: MANUALLY AND BASIC #\n",
    "\n",
    "**The purpose of this code is to create a mini state machine, where, it will read the hanoi game, and based in a fixed matrix disc position, determine if the movements go well or bad.**\n",
    "\n",
    "_**Main mission: only to test the modules developed**_\n",
    "\n",
    "**The future work: yolo, ros2, etc..... check the cheklist for the remaining work, that, should be integrated to the great final machine.**"
   ]
  },
  {
   "cell_type": "code",
   "execution_count": 1,
   "metadata": {},
   "outputs": [],
   "source": [
    "import cv2\n",
    "import numpy as np\n",
    "import matplotlib.pyplot as plt\n",
    "%matplotlib inline"
   ]
  },
  {
   "cell_type": "code",
   "execution_count": 7,
   "metadata": {},
   "outputs": [],
   "source": [
    "#my custom modules imports\n",
    "import settings as glb #this import all the global variables\n",
    "import hanoi_img_proc as vidpro\n",
    "import matrix_proc as mtrx"
   ]
  },
  {
   "cell_type": "code",
   "execution_count": 8,
   "metadata": {},
   "outputs": [],
   "source": [
    "#function that display a unique image\n",
    "def display(img, cmap='gray'):\n",
    "    fig = plt.figure(figsize = (8,9))\n",
    "    ax = fig.add_subplot(111)\n",
    "    ax.imshow(img, cmap='gray')"
   ]
  },
  {
   "cell_type": "code",
   "execution_count": 9,
   "metadata": {},
   "outputs": [],
   "source": [
    "#just once, for now should be automatized\n",
    "pt1 = (216, 328) \n",
    "pt2 = (363, 391)\n",
    "total_width = pt2[0] - pt1[0]\n",
    "total_height = pt2[1] - pt1[1]\n",
    "\n",
    "#from previuos test, with 15 width pixels for the detection zone is good\n",
    "mask_x = int(total_width*(0.15))  # the initial point of the stick position, then, is added the sticks offset (x,y) coordinates\n",
    "mask_y = int(total_height *(0.25))  #inital point \n",
    "glb.mask_width = 15  #width by pixels, for now it is stated as a fixed value... for now....\n",
    "glb.mask_height = int(total_height *(0.73))  #height by pixels\n",
    "\n",
    "stick_position_dict = {'stick0' : 0, 'stick1': int(total_width*(0.25)), 'stick2' : int(total_width*(0.6))}\n",
    "sort_disc_dictionary = {'sort0' : None, 'sort1': None, 'sort2': None}"
   ]
  },
  {
   "cell_type": "code",
   "execution_count": 10,
   "metadata": {},
   "outputs": [
    {
     "name": "stdout",
     "output_type": "stream",
     "text": [
      "Frame taken\n"
     ]
    }
   ],
   "source": [
    "#done every state: Take the big frame\n",
    "frame = vidpro.take_one_frame()\n",
    "newframe = frame.copy()"
   ]
  },
  {
   "cell_type": "code",
   "execution_count": 11,
   "metadata": {},
   "outputs": [],
   "source": [
    "imageRGB = cv2.cvtColor(frame, cv2.COLOR_BGR2RGB)"
   ]
  },
  {
   "cell_type": "code",
   "execution_count": null,
   "metadata": {},
   "outputs": [],
   "source": [
    "display(imageRGB)"
   ]
  }
 ],
 "metadata": {
  "kernelspec": {
   "display_name": "Python 3",
   "language": "python",
   "name": "python3"
  },
  "language_info": {
   "codemirror_mode": {
    "name": "ipython",
    "version": 3
   },
   "file_extension": ".py",
   "mimetype": "text/x-python",
   "name": "python",
   "nbconvert_exporter": "python",
   "pygments_lexer": "ipython3",
   "version": "3.6.6"
  }
 },
 "nbformat": 4,
 "nbformat_minor": 2
}
