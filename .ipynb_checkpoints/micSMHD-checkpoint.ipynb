{
 "cells": [
  {
   "cell_type": "code",
   "execution_count": 1,
   "metadata": {},
   "outputs": [],
   "source": [
    "# for me, before use speech package i shoud done this:\n",
    "#pip install pipwin \n",
    "#pipwin install pyaudio\n",
    "\n",
    "\n",
    "import serial\n",
    "import speech_recognition as sr\n",
    "\n"
   ]
  },
  {
   "cell_type": "code",
   "execution_count": 4,
   "metadata": {},
   "outputs": [],
   "source": [
    "mic = sr.Microphone()"
   ]
  },
  {
   "cell_type": "code",
   "execution_count": 6,
   "metadata": {},
   "outputs": [
    {
     "data": {
      "text/plain": [
       "['Microsoft Sound Mapper - Input',\n",
       " 'Microphone (HD Webcam eMeet C96',\n",
       " 'Microphone (2- High Definition ',\n",
       " 'Microsoft Sound Mapper - Output',\n",
       " 'Speakers (2- High Definition Au',\n",
       " 'Primary Sound Capture Driver',\n",
       " 'Microphone (HD Webcam eMeet C960)',\n",
       " 'Microphone (2- High Definition Audio Device)',\n",
       " 'Primary Sound Driver',\n",
       " 'Speakers (2- High Definition Audio Device)',\n",
       " 'Speakers (2- High Definition Audio Device)',\n",
       " 'Microphone (2- High Definition Audio Device)',\n",
       " 'Microphone (HD Webcam eMeet C960)',\n",
       " 'Speakers (HD Audio Speaker)',\n",
       " 'Microphone (HD Audio Microphone 2)',\n",
       " 'Microphone (HD Webcam eMeet C960)']"
      ]
     },
     "execution_count": 6,
     "metadata": {},
     "output_type": "execute_result"
    }
   ],
   "source": [
    "sr.Microphone.list_microphone_names()"
   ]
  },
  {
   "cell_type": "code",
   "execution_count": 7,
   "metadata": {},
   "outputs": [],
   "source": [
    "mic = sr.Microphone(device_index=1)  # in my home this is the eMeet C96 camera"
   ]
  },
  {
   "cell_type": "code",
   "execution_count": 10,
   "metadata": {},
   "outputs": [
    {
     "name": "stdout",
     "output_type": "stream",
     "text": [
      "Listening for 'robot start' command...\n",
      "result2:\n",
      "{   'alternative': [   {   'confidence': 0.70116353,\n",
      "                           'transcript': 'red red red red'},\n",
      "                       {   'confidence': 0.74213558,\n",
      "                           'transcript': 'red red red red red'},\n",
      "                       {   'confidence': 0.7714563,\n",
      "                           'transcript': 'red red red red red red'},\n",
      "                       {'confidence': 0.65240026, 'transcript': 'red red red'},\n",
      "                       {   'confidence': 0.65240026,\n",
      "                           'transcript': 'read read read'}],\n",
      "    'final': True}\n",
      "Starting the robot...\n"
     ]
    }
   ],
   "source": [
    "# Initialize the recognizer\n",
    "recognizer = sr.Recognizer()\n",
    "\n",
    "# Define the COM port for your Arduino (change this to match your setup)\n",
    "#arduino_port = \"COM3\"\n",
    "\n",
    "# Initialize the Arduino connection\n",
    "#arduino = serial.Serial(arduino_port, 9600)\n",
    "\n",
    "def start_robot():\n",
    "    try:\n",
    "        with mic as source:\n",
    "            print(\"Listening for 'robot start' command...\")\n",
    "            recognizer.adjust_for_ambient_noise(source)\n",
    "            audio = recognizer.listen(source)\n",
    "\n",
    "        command = recognizer.recognize_google(audio).lower()\n",
    "        if \"start\" in command:\n",
    "            print(\"Starting the robot...\")\n",
    " #           arduino.write(b\"start\\n\")  # Send \"start\" command to Arduino\n",
    "        else:\n",
    "            print(\"Command not recognized.\")\n",
    "    except sr.UnknownValueError:\n",
    "        print(\"Could not understand the audio.\")\n",
    "    except sr.RequestError as e:\n",
    "        print(f\"Could not request results; {e}\")\n",
    "\n",
    "if __name__ == \"__main__\":\n",
    "    start_robot()\n"
   ]
  },
  {
   "cell_type": "code",
   "execution_count": null,
   "metadata": {},
   "outputs": [],
   "source": []
  }
 ],
 "metadata": {
  "kernelspec": {
   "display_name": "Python 3",
   "language": "python",
   "name": "python3"
  },
  "language_info": {
   "codemirror_mode": {
    "name": "ipython",
    "version": 3
   },
   "file_extension": ".py",
   "mimetype": "text/x-python",
   "name": "python",
   "nbconvert_exporter": "python",
   "pygments_lexer": "ipython3",
   "version": "3.6.6"
  }
 },
 "nbformat": 4,
 "nbformat_minor": 2
}
