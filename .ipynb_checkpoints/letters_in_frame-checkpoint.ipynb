{
 "cells": [
  {
   "cell_type": "code",
   "execution_count": 4,
   "metadata": {},
   "outputs": [],
   "source": [
    "import cv2\n",
    "import numpy as np\n",
    "\n",
    "# Create a black frame (all zeros)\n",
    "frame = np.ones((480, 640, 3), dtype=np.uint8)*255\n",
    "\n",
    "# Choose a font and other parameters\n",
    "font = cv2.FONT_HERSHEY_SIMPLEX\n",
    "text = 'A'\n",
    "font_size = 4\n",
    "font_thickness = 2\n",
    "font_color = (0, 0, 0)  # White\n",
    "\n",
    "# Determine the size of the text box\n",
    "(text_width, text_height), baseline = cv2.getTextSize(text, font, font_size, font_thickness)\n",
    "x = (frame.shape[1] - text_width) // 2\n",
    "y = (frame.shape[0] + text_height) // 2\n",
    "\n",
    "# Draw the letter on the frame\n",
    "cv2.putText(frame, text, (x, y), font, font_size, font_color, font_thickness, cv2.LINE_AA)\n",
    "\n",
    "# Display the frame\n",
    "cv2.imshow('Frame with Letter', frame)\n",
    "cv2.waitKey(0)\n",
    "cv2.destroyAllWindows()"
   ]
  },
  {
   "cell_type": "code",
   "execution_count": null,
   "metadata": {},
   "outputs": [],
   "source": []
  }
 ],
 "metadata": {
  "kernelspec": {
   "display_name": "Python 3",
   "language": "python",
   "name": "python3"
  },
  "language_info": {
   "codemirror_mode": {
    "name": "ipython",
    "version": 3
   },
   "file_extension": ".py",
   "mimetype": "text/x-python",
   "name": "python",
   "nbconvert_exporter": "python",
   "pygments_lexer": "ipython3",
   "version": "3.6.6"
  }
 },
 "nbformat": 4,
 "nbformat_minor": 2
}
