{
 "cells": [
  {
   "cell_type": "markdown",
   "metadata": {},
   "source": [
    "## CLICK SELECTION HSV VALUES AND RGB TEST\n",
    "\n",
    "**This code is used to get the HSV values from a pixel. The idea, is to get the real reference for a color and its shadow. This will be used for the system that will identify each color disc in the hanoi tower**\n",
    "\n",
    "*keep in mind: cv2.imshow, knows that the imread is in BGR and know how to display. Instead, plt.imshow, you need to convert to BGR2RGB because its work on the RGB setup.*\n"
   ]
  },
  {
   "cell_type": "code",
   "execution_count": 1,
   "metadata": {},
   "outputs": [],
   "source": [
    "import cv2\n",
    "import time\n",
    "import numpy as np\n",
    "import matplotlib.pyplot as plt\n",
    "%matplotlib inline"
   ]
  },
  {
   "cell_type": "code",
   "execution_count": 2,
   "metadata": {},
   "outputs": [],
   "source": [
    "#define the events for the\n",
    "# mouse_click.\n",
    "def mouse_click(event, x, y, \n",
    "                flags, param):\n",
    "    \n",
    "    \n",
    "    # to check if left mouse \n",
    "    # button was clicked\n",
    "    if event == cv2.EVENT_LBUTTONDOWN:\n",
    "        \n",
    "        colorB = image[y,x,0]\n",
    "        colorG = image[y,x,1]\n",
    "        colorR = image[y,x,2]\n",
    "        colorH = imagehsv[y,x,0]\n",
    "        colorS = imagehsv[y,x,1]\n",
    "        colorV = imagehsv[y,x,2]\n",
    "          \n",
    "        print('BLUE: ' + str(colorB) + '  GREEN: ' + str(colorG) + '  RED: ' + str(colorR))\n",
    "        print('H: ' + str(colorH) + '  S: ' + str(colorS) + '  V: ' + str(colorV))\n",
    "   \n",
    "      "
   ]
  },
  {
   "cell_type": "code",
   "execution_count": 3,
   "metadata": {},
   "outputs": [],
   "source": [
    "# Create a named window for connections\n",
    "cv2.namedWindow('frame')\n",
    "cv2.setMouseCallback('frame', mouse_click)"
   ]
  },
  {
   "cell_type": "code",
   "execution_count": 4,
   "metadata": {},
   "outputs": [],
   "source": [
    "#basic variables\n",
    "img_quant = 23 + 1\n",
    "hanoi_dict = {} #dictionary used to store the images"
   ]
  },
  {
   "cell_type": "code",
   "execution_count": 5,
   "metadata": {},
   "outputs": [],
   "source": [
    "# load the dictionary with the jpg dataset stored at DATA\n",
    "for i in range (1, img_quant):\n",
    "\n",
    "    name_file = 'DATA/ROI_select' + str(i) + '.jpg'\n",
    "    name_var = str('hanoi'+str(i))\n",
    "    \n",
    "    hanoi_dict[name_var] = cv2.imread(name_file)\n"
   ]
  },
  {
   "cell_type": "code",
   "execution_count": null,
   "metadata": {},
   "outputs": [
    {
     "name": "stdout",
     "output_type": "stream",
     "text": [
      "BLUE: 80GREEN: 58RED: 177\n",
      "H: 174S: 171V: 177\n"
     ]
    }
   ],
   "source": [
    "#load the image that I want to know the HSV value, but first look in the RGB version\n",
    "\n",
    "image = hanoi_dict['hanoi1']\n",
    "imagehsv = cv2.cvtColor(image, cv2.COLOR_BGR2HSV)\n",
    "\n",
    "#image = cv2.cvtColor(image, cv2.COLOR_BGR2RGB)\n",
    "\n",
    "cv2.imshow('frame', image)\n",
    "cv2.waitKey()\n",
    "\n",
    "#cv2.imshow('framehsv', imagehsv)\n",
    "#cv2.waitKey()\n",
    "\n",
    "\n",
    "    #if cv2.waitKey(1) & 0xFF == ord('q'):\n",
    "     #   cv2.destroyAllWindows() \n"
   ]
  },
  {
   "cell_type": "code",
   "execution_count": 7,
   "metadata": {},
   "outputs": [
    {
     "ename": "NameError",
     "evalue": "name 'colorR' is not defined",
     "output_type": "error",
     "traceback": [
      "\u001b[1;31m---------------------------------------------------------------------------\u001b[0m",
      "\u001b[1;31mNameError\u001b[0m                                 Traceback (most recent call last)",
      "\u001b[1;32m<ipython-input-7-dc3ac8d8c168>\u001b[0m in \u001b[0;36m<module>\u001b[1;34m\u001b[0m\n\u001b[1;32m----> 1\u001b[1;33m \u001b[0mcolorR\u001b[0m\u001b[1;33m\u001b[0m\u001b[0m\n\u001b[0m",
      "\u001b[1;31mNameError\u001b[0m: name 'colorR' is not defined"
     ]
    }
   ],
   "source": []
  },
  {
   "cell_type": "code",
   "execution_count": 7,
   "metadata": {},
   "outputs": [],
   "source": [
    "cv2.destroyAllWindows() \n"
   ]
  },
  {
   "cell_type": "code",
   "execution_count": null,
   "metadata": {},
   "outputs": [],
   "source": []
  }
 ],
 "metadata": {
  "kernelspec": {
   "display_name": "Python 3",
   "language": "python",
   "name": "python3"
  },
  "language_info": {
   "codemirror_mode": {
    "name": "ipython",
    "version": 3
   },
   "file_extension": ".py",
   "mimetype": "text/x-python",
   "name": "python",
   "nbconvert_exporter": "python",
   "pygments_lexer": "ipython3",
   "version": "3.6.6"
  }
 },
 "nbformat": 4,
 "nbformat_minor": 2
}
