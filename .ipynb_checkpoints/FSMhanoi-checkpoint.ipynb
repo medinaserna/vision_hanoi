{
 "cells": [
  {
   "cell_type": "code",
   "execution_count": 1,
   "metadata": {},
   "outputs": [],
   "source": [
    "# this state machine corresponds to all the behaviour of the Hanoi Droid robot, focused on solve the tower of hanoi game.\n",
    "\n",
    "from transitions import Machine\n",
    "import random\n",
    "\n",
    "\n"
   ]
  },
  {
   "cell_type": "code",
   "execution_count": 4,
   "metadata": {},
   "outputs": [],
   "source": [
    "class HanoiDroidFSM(object):\n",
    "\n",
    "    # Define some states. Most of the time, narcoleptic superheroes are just like\n",
    "    # everyone else. Except for...\n",
    "    states = ['zero', 'face_track', 'voice_cmd', 'hanoi_game', 'hg_step1', 'hg_step2', 'hg_step3', 'hg_step4', 'hg_step5', 'hg_step6', 'hg_step7', \\\n",
    "              'custom_disc', 'organize_mov','comp_matrix' , 'game_solv', 'prompt_error'  ]\n",
    "    # A more compact version of the quickstart transitions\n",
    "    transitions = [{'trigger': 'timer_start_track', 'source': 'zero', 'dest':  'face_track'},\n",
    "                   {'trigger': 'timer_face_out', 'source': 'face_track', 'dest':  'zero'},\n",
    "                   {'trigger': 'voice', 'source': 'zero', 'dest':  'voice_cmd'},\n",
    "                   {'trigger': 'voice', 'source': 'face_track', 'dest':  'voice_cmd'},\n",
    "                   {'trigger': 'non_voice', 'source': 'voice_cmd', 'dest':  'zero'},\n",
    "                   {'trigger': 'custom_disc', 'source': 'voice_cmd', 'dest':  'custom_disc'},\n",
    "                   {'trigger': 'get_mtx', 'source': 'custom_disc', 'dest':  'organize_mov'},\n",
    "                   {'trigger': 'ack', 'source': 'organize_mov', 'dest':  'comp_matrix'},\n",
    "                   {'trigger': 'eq_mtx', 'source': 'comp_matrix', 'dest':  'game_solved'},\n",
    "                   {'trigger': 'dif_mtx', 'source': 'comp_matrix', 'dest':  'prompt_error'},\n",
    "                   {'trigger': 'solve_hanoi', 'source': 'voice_cmd', 'dest':  'hanoi_game'},\n",
    "                   {'trigger': 'hg_start', 'source': 'hanoi_game', 'dest':  'hg_step1'},\n",
    "                   {'trigger': 'ack', 'source': 'hg_step1', 'dest':  'hg_step2'},\n",
    "                   {'trigger': 'ack', 'source': 'hg_step2', 'dest':  'hg_step3'},\n",
    "                   {'trigger': 'ack', 'source': 'hg_step3', 'dest':  'hg_step4'},\n",
    "                   {'trigger': 'ack', 'source': 'hg_step4', 'dest':  'hg_step5'},\n",
    "                   {'trigger': 'ack', 'source': 'hg_step5', 'dest':  'hg_step6'},\n",
    "                   {'trigger': 'ack', 'source': 'hg_step6', 'dest':  'hg_step7'},\n",
    "                   {'trigger': 'dif_mtx', 'source': 'hg_step1', 'dest':  'prompt_error'},\n",
    "                   {'trigger': 'dif_mtx', 'source': 'hg_step2', 'dest':  'prompt_error'},\n",
    "                   {'trigger': 'dif_mtx', 'source': 'hg_step3', 'dest':  'prompt_error'},\n",
    "                   {'trigger': 'dif_mtx', 'source': 'hg_step4', 'dest':  'prompt_error'},\n",
    "                   {'trigger': 'dif_mtx', 'source': 'hg_step5', 'dest':  'prompt_error'},\n",
    "                   {'trigger': 'dif_mtx', 'source': 'hg_step6', 'dest':  'prompt_error'},\n",
    "                   {'trigger': 'dif_mtx', 'source': 'hg_step7', 'dest':  'prompt_error'},\n",
    "                   {'trigger': 'ack', 'source': 'hg_step7', 'dest':  'game_solved'},\n",
    "                   {'trigger': 'timer_show', 'source': 'game_solved', 'dest':  'zero'},\n",
    "                   {'trigger': 'timer_show', 'source': 'prompt_error', 'dest':  'zero'}]\n",
    "    \n",
    "    \n",
    "    \n",
    "    def __init__(self, name):\n",
    "\n",
    "        self.name = name\n",
    "        #self.kittens_rescued = 0  # What have we accomplished today?\n",
    "\n",
    "        # Initialize the state machine\n",
    "        self.machine = Machine(model=self, states=HanoiDroidFSM.states,\n",
    "                               transitions=HanoiDroidFSM.transitions, initial='zero')\n",
    "    \n",
    "    "
   ]
  },
  {
   "cell_type": "code",
   "execution_count": 5,
   "metadata": {},
   "outputs": [],
   "source": [
    "droid = HanoiDroidFSM(\"Droid\")"
   ]
  },
  {
   "cell_type": "code",
   "execution_count": 6,
   "metadata": {},
   "outputs": [
    {
     "data": {
      "text/plain": [
       "True"
      ]
     },
     "execution_count": 6,
     "metadata": {},
     "output_type": "execute_result"
    }
   ],
   "source": [
    "droid.timer_start_track()"
   ]
  },
  {
   "cell_type": "code",
   "execution_count": 9,
   "metadata": {},
   "outputs": [
    {
     "data": {
      "text/plain": [
       "'voice_cmd'"
      ]
     },
     "execution_count": 9,
     "metadata": {},
     "output_type": "execute_result"
    }
   ],
   "source": [
    "droid.state"
   ]
  },
  {
   "cell_type": "code",
   "execution_count": 8,
   "metadata": {},
   "outputs": [
    {
     "data": {
      "text/plain": [
       "True"
      ]
     },
     "execution_count": 8,
     "metadata": {},
     "output_type": "execute_result"
    }
   ],
   "source": [
    "droid.voice()"
   ]
  },
  {
   "cell_type": "code",
   "execution_count": null,
   "metadata": {},
   "outputs": [],
   "source": []
  }
 ],
 "metadata": {
  "kernelspec": {
   "display_name": "Python 3",
   "language": "python",
   "name": "python3"
  },
  "language_info": {
   "codemirror_mode": {
    "name": "ipython",
    "version": 3
   },
   "file_extension": ".py",
   "mimetype": "text/x-python",
   "name": "python",
   "nbconvert_exporter": "python",
   "pygments_lexer": "ipython3",
   "version": "3.6.6"
  }
 },
 "nbformat": 4,
 "nbformat_minor": 2
}
