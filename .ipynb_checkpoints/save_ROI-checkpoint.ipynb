{
 "cells": [
  {
   "cell_type": "markdown",
   "metadata": {},
   "source": [
    "## Copy a ROI image\n",
    "\n",
    "**El proposito de este codigo es obtener una imagen de la webcam, y sobre esa imagen seleccionar el ROI. Seria algo similar a lo que haria el robot, mira el juego, obtiene el ROI y usa el algoritmo para resolver**\n"
   ]
  },
  {
   "cell_type": "code",
   "execution_count": 9,
   "metadata": {},
   "outputs": [],
   "source": [
    "import cv2\n",
    "import numpy as np\n",
    "import matplotlib.pyplot as plt\n",
    "%matplotlib inline"
   ]
  },
  {
   "cell_type": "code",
   "execution_count": 10,
   "metadata": {},
   "outputs": [],
   "source": [
    "# Read video\n",
    "cap = cv2.VideoCapture(1)\n",
    "\n",
    "# Special function allows us to draw on the very first frame our desired ROI\n",
    "#comento la siguiente linea porque voy a usar una imagen para que la trackee el sistema\n"
   ]
  },
  {
   "cell_type": "code",
   "execution_count": 11,
   "metadata": {},
   "outputs": [],
   "source": [
    "#define the events for the\n",
    "# mouse_click.\n",
    "def mouse_click(event, x, y, \n",
    "                flags, param):\n",
    "    \n",
    "    \n",
    "    # to check if left mouse \n",
    "    # button was clicked\n",
    "    if event == cv2.EVENT_LBUTTONDOWN:\n",
    "        \n",
    "        image = frame.copy()\n",
    "       \n",
    "        roi = cv2.selectROI(image, False)\n",
    "        \n",
    "        roi_cropped=image[int(roi[1]):int(roi[1]+roi[3]), int(roi[0]):int(roi[0]+roi[2])]\n",
    "        cv2.imshow('roi', roi_cropped)\n",
    "        cv2.waitKey()\n",
    "        \n",
    "        cv2.imwrite('ROI_selected.jpg',roi_cropped)\n",
    "        \n",
    "  \n"
   ]
  },
  {
   "cell_type": "code",
   "execution_count": 12,
   "metadata": {},
   "outputs": [],
   "source": [
    "# Create a named window for connections\n",
    "cv2.namedWindow('frame')\n",
    "\n",
    "cv2.setMouseCallback('frame', mouse_click)"
   ]
  },
  {
   "cell_type": "code",
   "execution_count": 13,
   "metadata": {},
   "outputs": [],
   "source": [
    "while True:\n",
    "    # Read first frame.\n",
    "    ret, frame = cap.read()\n",
    "    \n",
    "    cv2.imshow('frame', frame)\n",
    "    \n",
    "    if cv2.waitKey(1) & 0xFF == ord('q'):\n",
    "        break\n"
   ]
  },
  {
   "cell_type": "code",
   "execution_count": 14,
   "metadata": {},
   "outputs": [],
   "source": [
    "cap.release()\n",
    "cv2.destroyAllWindows()\n"
   ]
  },
  {
   "cell_type": "code",
   "execution_count": null,
   "metadata": {},
   "outputs": [],
   "source": []
  }
 ],
 "metadata": {
  "kernelspec": {
   "display_name": "Python 3",
   "language": "python",
   "name": "python3"
  },
  "language_info": {
   "codemirror_mode": {
    "name": "ipython",
    "version": 3
   },
   "file_extension": ".py",
   "mimetype": "text/x-python",
   "name": "python",
   "nbconvert_exporter": "python",
   "pygments_lexer": "ipython3",
   "version": "3.6.6"
  }
 },
 "nbformat": 4,
 "nbformat_minor": 2
}
